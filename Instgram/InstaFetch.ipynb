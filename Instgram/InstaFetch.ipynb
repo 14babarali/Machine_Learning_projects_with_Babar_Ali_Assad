{
  "nbformat": 4,
  "nbformat_minor": 0,
  "metadata": {
    "colab": {
      "provenance": []
    },
    "kernelspec": {
      "name": "python3",
      "display_name": "Python 3"
    },
    "language_info": {
      "name": "python"
    }
  },
  "cells": [
    {
      "cell_type": "markdown",
      "source": [
        "##:InstaFetch: Personalized Instagram User Details Retrieval:"
      ],
      "metadata": {
        "id": "_OQDPh8Ge9E0"
      }
    },
    {
      "cell_type": "code",
      "source": [
        "import requests\n",
        "\n",
        "def fetch_user_details(username):\n",
        "    base_url = f\"https://www.instagram.com/{username}/?__a=1\"\n",
        "    response = requests.get(base_url)\n",
        "\n",
        "    if response.status_code == 200:\n",
        "        user_data = response.json()\n",
        "        user_info = user_data.get('graphql', {}).get('user', {})\n",
        "        if user_info:\n",
        "            # Extract relevant user details\n",
        "            user_id = user_info.get('id')\n",
        "            full_name = user_info.get('full_name')\n",
        "            biography = user_info.get('biography')\n",
        "            followers = user_info.get('edge_followed_by', {}).get('count')\n",
        "            following = user_info.get('edge_follow', {}).get('count')\n",
        "\n",
        "            # Display user details\n",
        "            print(f\"User ID: {user_id}\")\n",
        "            print(f\"Full Name: {full_name}\")\n",
        "            print(f\"Biography: {biography}\")\n",
        "            print(f\"Followers: {followers}\")\n",
        "            print(f\"Following: {following}\")\n",
        "        else:\n",
        "            print(\"User not found or account is private.\")\n",
        "    else:\n",
        "        print(\"Error fetching user details.\")\n",
        "\n",
        "# Example usage\n",
        "username = input(\"Enter Instagram username: \")\n",
        "fetch_user_details(username)\n"
      ],
      "metadata": {
        "id": "5jl0IjeAfC1U"
      },
      "execution_count": null,
      "outputs": []
    },
    {
      "cell_type": "markdown",
      "source": [
        "#username Finder"
      ],
      "metadata": {
        "id": "ez_v14hHpN3G"
      }
    },
    {
      "cell_type": "code",
      "source": [
        "import requests\n",
        "\n",
        "def fetch_user_details(username):\n",
        "    base_url = f\"https://www.instagram.com/{username}/?__a=1\"\n",
        "    response = requests.get(base_url)\n",
        "\n",
        "    if response.status_code == 200:\n",
        "        try:\n",
        "            user_data = response.json()\n",
        "            user_info = user_data.get('graphql', {}).get('user', {})\n",
        "            if user_info:\n",
        "                # Extract relevant user details\n",
        "                user_id = user_info.get('id')\n",
        "                full_name = user_info.get('full_name')\n",
        "                biography = user_info.get('biography')\n",
        "                followers = user_info.get('edge_followed_by', {}).get('count')\n",
        "                following = user_info.get('edge_follow', {}).get('count')\n",
        "\n",
        "                # Display user details\n",
        "                print(f\"User ID: {user_id}\")\n",
        "                print(f\"Full Name: {full_name}\")\n",
        "                print(f\"Biography: {biography}\")\n",
        "                print(f\"Followers: {followers}\")\n",
        "                print(f\"Following: {following}\")\n",
        "            else:\n",
        "                print(\"User not found or account is private.\")\n",
        "        except ValueError:\n",
        "            print(\"Error decoding JSON response.\")\n",
        "    else:\n",
        "        print(\"Error fetching user details.\")\n",
        "\n",
        "\n",
        "username = input(\"Enter Instagram username: \")\n",
        "fetch_user_details(username)\n"
      ],
      "metadata": {
        "id": "d6Sn2VytfWQL"
      },
      "execution_count": null,
      "outputs": []
    },
    {
      "cell_type": "code",
      "source": [
        "import requests\n",
        "\n",
        "def fetch_user_details(username):\n",
        "    base_url = f\"https://www.instagram.com/{username}/?__a=1\"\n",
        "    response = requests.get(base_url)\n",
        "\n",
        "    if response.status_code == 200:\n",
        "        try:\n",
        "            user_data = response.json()\n",
        "            user_info = user_data.get('graphql', {}).get('user', {})\n",
        "            if user_info:\n",
        "                # Extract relevant user details\n",
        "                user_id = user_info.get('id')\n",
        "                full_name = user_info.get('full_name')\n",
        "                biography = user_info.get('biography')\n",
        "                followers = user_info.get('edge_followed_by', {}).get('count')\n",
        "                following = user_info.get('edge_follow', {}).get('count')\n",
        "\n",
        "                # Display user details\n",
        "                print(f\"User ID: {user_id}\")\n",
        "                print(f\"Full Name: {full_name}\")\n",
        "                print(f\"Biography: {biography}\")\n",
        "                print(f\"Followers: {followers}\")\n",
        "                print(f\"Following: {following}\")\n",
        "            else:\n",
        "                print(\"User not found or account is private.\")\n",
        "        except ValueError as e:\n",
        "            print(f\"Error decoding JSON response: {e}\")\n",
        "    else:\n",
        "        print(f\"Error fetching user details: HTTP status code {response.status_code}\")\n",
        "\n",
        "# Example usage\n",
        "username = input(\"Enter Instagram username: \")\n",
        "fetch_user_details(username)\n"
      ],
      "metadata": {
        "id": "UmV_2EdtfiwF"
      },
      "execution_count": null,
      "outputs": []
    },
    {
      "cell_type": "code",
      "source": [
        "import requests\n",
        "from bs4 import BeautifulSoup\n",
        "\n",
        "def fetch_similar_usernames(username):\n",
        "    base_url = f\"https://www.instagram.com/web/search/topsearch/?context=blended&query={username}\"\n",
        "    response = requests.get(base_url)\n",
        "\n",
        "    if response.status_code == 200:\n",
        "        try:\n",
        "            data = response.json()\n",
        "            users = data.get('users', [])\n",
        "            if users:\n",
        "                for user in users:\n",
        "                    user_info = user.get('user', {})\n",
        "                    username = user_info.get('username', '')\n",
        "                    full_name = user_info.get('full_name', '')\n",
        "                    print(f\"Username: {username}, Full Name: {full_name}\")\n",
        "            else:\n",
        "                print(\"No similar usernames found.\")\n",
        "        except ValueError as e:\n",
        "            print(f\"Error decoding JSON response: {e}\")\n",
        "    else:\n",
        "        print(f\"Error fetching search results: HTTP status code {response.status_code}\")\n",
        "\n",
        "# Example usage\n",
        "username = input(\"Enter Instagram username to search: \")\n",
        "fetch_similar_usernames(username)\n"
      ],
      "metadata": {
        "id": "g8zanfW2gB-s"
      },
      "execution_count": null,
      "outputs": []
    },
    {
      "cell_type": "code",
      "source": [
        "import requests\n",
        "\n",
        "# Constants (replace with your own credentials)\n",
        "CLIENT_ID = 'your_client_id'\n",
        "CLIENT_SECRET = 'your_client_secret'\n",
        "ACCESS_TOKEN = 'your_access_token'\n",
        "\n",
        "def get_access_token():\n",
        "    # Obtain access token using client ID and client secret\n",
        "    url = 'https://api.instagram.com/oauth/access_token'\n",
        "    params = {\n",
        "        'client_id': CLIENT_ID,\n",
        "        'client_secret': CLIENT_SECRET,\n",
        "        'grant_type': 'client_credentials'\n",
        "    }\n",
        "    response = requests.post(url, data=params)\n",
        "    if response.status_code == 200:\n",
        "        access_token = response.json()['access_token']\n",
        "        return access_token\n",
        "    else:\n",
        "        print(f\"Failed to obtain access token: {response.text}\")\n",
        "        return None\n",
        "\n",
        "def fetch_user_data(username):\n",
        "    # Fetch user data using access token\n",
        "    url = f'https://graph.instagram.com/{username}?fields=id,username&access_token={ACCESS_TOKEN}'\n",
        "    response = requests.get(url)\n",
        "    if response.status_code == 200:\n",
        "        user_data = response.json()\n",
        "        return user_data\n",
        "    else:\n",
        "        print(f\"Failed to fetch user data: {response.text}\")\n",
        "        return None\n",
        "\n",
        "# Example usage\n",
        "username = 'instagram'\n",
        "access_token = get_access_token()\n",
        "if access_token:\n",
        "    # Use the obtained access token\n",
        "    global ACCESS_TOKEN\n",
        "    ACCESS_TOKEN = access_token\n",
        "\n",
        "    user_data = fetch_user_data(username)\n",
        "    if user_data:\n",
        "        print(\"User data:\")\n",
        "        print(user_data)\n",
        "    else:\n",
        "        print(\"Failed to fetch user data.\")\n",
        "else:\n",
        "    print(\"Authentication failed.\")\n"
      ],
      "metadata": {
        "id": "FcNtdRQOgLdK"
      },
      "execution_count": null,
      "outputs": []
    },
    {
      "cell_type": "code",
      "source": [
        "import requests\n",
        "\n",
        "# Define API endpoint and access token\n",
        "api_url = 'https://graph.instagram.com/me'\n",
        "access_token = 'YOUR_ACCESS_TOKEN'\n",
        "\n",
        "# Make API request\n",
        "params = {\n",
        "    'fields': 'id,username,media_count',\n",
        "    'access_token': access_token\n",
        "}\n",
        "response = requests.get(api_url, params=params)\n",
        "\n",
        "# Check if request was successful\n",
        "if response.status_code == 200:\n",
        "    user_data = response.json()\n",
        "    print(user_data)\n",
        "else:\n",
        "    print(f\"Error: {response.status_code} - {response.text}\")\n"
      ],
      "metadata": {
        "id": "qtaIXC1Kikka"
      },
      "execution_count": null,
      "outputs": []
    }
  ]
}