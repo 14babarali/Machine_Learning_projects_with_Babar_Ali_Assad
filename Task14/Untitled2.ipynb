{
  "nbformat": 4,
  "nbformat_minor": 0,
  "metadata": {
    "colab": {
      "provenance": []
    },
    "kernelspec": {
      "name": "python3",
      "display_name": "Python 3"
    },
    "language_info": {
      "name": "python"
    }
  },
  "cells": [
    {
      "cell_type": "markdown",
      "source": [
        "**Automatic Human Object Removal in Images using Deep Learning and Image Segmentation**"
      ],
      "metadata": {
        "id": "RZjZtZKOrmYy"
      }
    },
    {
      "cell_type": "code",
      "source": [
        "import tensorflow as tf\n",
        "\n",
        "def load_segmentation_model():\n",
        "    # Load the pre-trained DeepLabV3 model provided by TensorFlow\n",
        "    model = tf.keras.applications.DeepLabV3(weights='pascal_voc', input_shape=(224, 224, 3), include_top=False)\n",
        "    return model\n"
      ],
      "metadata": {
        "id": "ozyH4wk2s9Qz"
      },
      "execution_count": null,
      "outputs": []
    },
    {
      "cell_type": "code",
      "source": [
        "!pip install tensorflow-examples\n"
      ],
      "metadata": {
        "id": "VoEgbqnvtlDp"
      },
      "execution_count": null,
      "outputs": []
    },
    {
      "cell_type": "code",
      "execution_count": null,
      "metadata": {
        "id": "I0wTcXZnrlRJ"
      },
      "outputs": [],
      "source": [
        "import numpy as np\n",
        "import cv2\n",
        "from google.colab.patches import cv2_imshow  # For displaying images in Colab\n",
        "from google.colab import files  # For uploading files in Colab\n",
        "import tensorflow as tf\n",
        "from tensorflow_examples.models.pix2pix import pix2pix\n",
        "\n",
        "def preprocess_image(image, width=224, height=224):\n",
        "    try:\n",
        "        # Resize image to desired dimensions\n",
        "        resized_image = cv2.resize(image, (width, height))\n",
        "\n",
        "        # Normalize image pixel values\n",
        "        normalized_image = resized_image / 255.0\n",
        "\n",
        "        return normalized_image\n",
        "    except Exception as e:\n",
        "        print(\"Error occurred while preprocessing image:\", e)\n",
        "        return None\n",
        "\n",
        "def remove_human(image, mask):\n",
        "    # Invert mask to select non-human regions\n",
        "    inverted_mask = cv2.bitwise_not(mask)\n",
        "    # Bitwise AND operation to remove human regions\n",
        "    removed_image = cv2.bitwise_and(image, image, mask=inverted_mask)\n",
        "    return removed_image\n",
        "\n",
        "# Load segmentation model\n",
        "def load_segmentation_model():\n",
        "    # Load the pre-trained DeepLabV3 model provided by TensorFlow\n",
        "    model = pix2pix.unet_generator(3, 256, norm_type='batchnorm')\n",
        "    model.load_weights(tf.keras.utils.get_file('deeplabv3_weights_tf_dim_ordering_tf_kernels_notop.h5',\n",
        "                                                'https://storage.googleapis.com/tensorflow/keras-applications/deeplabv3/deeplabv3_weights_tf_dim_ordering_tf_kernels_notop.h5'))\n",
        "    return model\n",
        "\n",
        "# Define image dimensions\n",
        "width = 224\n",
        "height = 224\n",
        "\n",
        "# Load segmentation model\n",
        "segmentation_model = load_segmentation_model()\n",
        "\n",
        "# Prompt user to upload image\n",
        "print(\"Please upload the image file:\")\n",
        "uploaded_image = files.upload()\n",
        "\n",
        "# Read uploaded image\n",
        "for filename in uploaded_image.keys():\n",
        "    uploaded_image_path = filename\n",
        "\n",
        "# Load and preprocess the uploaded image\n",
        "image = cv2.imread(uploaded_image_path)\n",
        "if image is not None:\n",
        "    image = cv2.cvtColor(image, cv2.COLOR_BGR2RGB)  # Convert image to RGB\n",
        "    processed_image = preprocess_image(image)\n",
        "\n",
        "    if processed_image is not None:\n",
        "        if segmentation_model is not None:\n",
        "            # Perform segmentation to obtain mask\n",
        "            segmentation_mask = segmentation_model.predict(np.expand_dims(processed_image, axis=0))[0]\n",
        "\n",
        "            # Threshold the mask to obtain binary mask\n",
        "            threshold = 0.5  # You may need to adjust this threshold based on your model\n",
        "            binary_mask = (segmentation_mask > threshold).astype(np.uint8) * 255\n",
        "\n",
        "            # Remove human from image\n",
        "            removed_human_image = remove_human(processed_image, binary_mask)\n",
        "\n",
        "            # Display original image, segmentation mask, and image with human removed\n",
        "            cv2_imshow(image)\n",
        "            cv2_imshow(binary_mask)\n",
        "            cv2_imshow(removed_human_image)\n",
        "        else:\n",
        "            print(\"Segmentation model is not initialized. Please ensure the model is properly loaded.\")\n"
      ]
    }
  ]
}